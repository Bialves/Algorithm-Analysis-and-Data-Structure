{
  "nbformat": 4,
  "nbformat_minor": 0,
  "metadata": {
    "colab": {
      "provenance": []
    },
    "kernelspec": {
      "name": "python3",
      "display_name": "Python 3"
    }
  },
  "cells": [
    {
      "cell_type": "markdown",
      "metadata": {
        "id": "gftPpZXAgEC6"
      },
      "source": [
        "# Exercícios - Analisando as Classes de Complexidade de Algoritmos Diversos\n",
        "\n",
        "### Prof. Marcelo Cohen\n",
        "\n",
        "Com base no que já foi apresentado em aula, faça experimentos com cada um dos algoritmos abaixo: conte a quantidade de operações, faça gráficos e tente determinar qual é a função característica de cada um. Este é um excelente exercício para praticar os conceitos que vimos.\n",
        "\n",
        "Ou seja, a ideia aqui **não é** entender o que cada algoritmo faz, mas como se comporta com um **n** cada vez maior.\n",
        "\n",
        "Você pode usar a implementação em Python fornecida (que é mais conveniente, pois permite fazer tudo aqui) ou transcrever para a linguagem da sua preferência."
      ]
    },
    {
      "cell_type": "markdown",
      "metadata": {
        "id": "fRdFidOzhxZ0"
      },
      "source": [
        "## Algoritmo 1"
      ]
    },
    {
      "cell_type": "code",
      "metadata": {
        "id": "9CVupbNsfVy2"
      },
      "source": [
        "def f1(n):\n",
        "  res = 0\n",
        "  for i in range(n-1, n*n+1):    # conta de n-1 até n*n\n",
        "    for j in range(i, n*n+1, i): # conta de i até n*n, de i em i\n",
        "      for k in range(0, n+1, i): # conta de 0 até n, de i em i\n",
        "        res += 1\n",
        "  return res"
      ],
      "execution_count": 488,
      "outputs": []
    },
    {
      "cell_type": "code",
      "metadata": {
        "id": "3RFYy1KEhfW6",
        "colab": {
          "base_uri": "https://localhost:8080/"
        },
        "outputId": "db2043e3-af86-46e1-dec4-fd31c5c5c057"
      },
      "source": [
        "# Programa principal\n",
        "for n in range(2,30):\n",
        "  print(n,f1(n))"
      ],
      "execution_count": 489,
      "outputs": [
        {
          "output_type": "stream",
          "name": "stdout",
          "text": [
            "2 18\n",
            "3 21\n",
            "4 35\n",
            "5 53\n",
            "6 78\n",
            "7 106\n",
            "8 142\n",
            "9 184\n",
            "10 233\n",
            "11 288\n",
            "12 351\n",
            "13 418\n",
            "14 495\n",
            "15 580\n",
            "16 671\n",
            "17 770\n",
            "18 878\n",
            "19 992\n",
            "20 1116\n",
            "21 1246\n",
            "22 1385\n",
            "23 1532\n",
            "24 1692\n",
            "25 1853\n",
            "26 2027\n",
            "27 2208\n",
            "28 2402\n",
            "29 2601\n"
          ]
        }
      ]
    },
    {
      "cell_type": "markdown",
      "metadata": {
        "id": "kC_nPAqGh9eN"
      },
      "source": [
        "Para fazer o gráfico, siga o seguinte modelo (x e y são **listas**, estrutura de dados nativa do Python)."
      ]
    },
    {
      "cell_type": "code",
      "metadata": {
        "id": "wTeEG3bUhjQQ"
      },
      "source": [
        "# Isto só precisa ser feito UMA vez\n",
        "import matplotlib.pyplot as plt # pacote gráfico\n",
        "import math\n",
        "plt.style.use('fivethirtyeight') # estilo dos gráficos"
      ],
      "execution_count": 490,
      "outputs": []
    },
    {
      "cell_type": "code",
      "metadata": {
        "id": "jf2W7F8fiV1S",
        "colab": {
          "base_uri": "https://localhost:8080/",
          "height": 449
        },
        "outputId": "db0dc7c1-c243-4d60-a8b7-cb398c43e11e"
      },
      "source": [
        "x = [] # lista vazia: coordenadas x\n",
        "y = [] # lista vazia: coordenadas y\n",
        "for n in range(2,10):\n",
        "  x.append(n)     # acrescenta o valor atual de n no final da lista x\n",
        "  y.append(f1(n)) # acrescenta o valor da função no final da lista y\n",
        "\n",
        "# Desenha o gráfico com linhas vermelhas\n",
        "# (para usar escala logarítmica, descomente uma ou ambas linhas abaixo)\n",
        "#plt.yscale(\"log\") # usa escala log para y (precisa ser feito a CADA novo gráfico)\n",
        "#plt.xscale(\"log\") # idem, para x\n",
        "plt.plot(x,y,'r-')\n",
        "plt.show()\n"
      ],
      "execution_count": 491,
      "outputs": [
        {
          "output_type": "display_data",
          "data": {
            "text/plain": [
              "<Figure size 640x480 with 1 Axes>"
            ],
            "image/png": "[encoded data removed]"
          },
          "metadata": {}
        }
      ]
    },
    {
      "cell_type": "markdown",
      "metadata": {
        "id": "rvH7ghnWj-me"
      },
      "source": [
        "Lembre-se das **duas técnicas** simples que vimos: ao usar as escalas logarítmicas, conseguimos facilmente identificar o comportamento exponencial ou polinomial. A partir daí, é possível determinar o **expoente** da função, ou o **grau** do polinômio:"
      ]
    },
    {
      "cell_type": "code",
      "metadata": {
        "id": "XZ-srozTk6rL",
        "colab": {
          "base_uri": "https://localhost:8080/"
        },
        "outputId": "28e6d4ee-d931-44cf-9b7e-6bc8e3fddad9"
      },
      "source": [
        "# Se for exponencial:\n",
        "\n",
        "# Calcula o valor de dois pontos da função\n",
        "a = 2\n",
        "b = 100\n",
        "fa = f1(a)\n",
        "fb = f1(b)\n",
        "print(fa,fb)\n",
        "# Inclinação da reta (r) será aprox. (log(fb)-log(fa))/(b-a)\n",
        "r = (math.log10(fb) - math.log10(fa))/ (b-a)\n",
        "# E o expoente é exp(r)\n",
        "base = math.exp(r)\n",
        "print(\"Base aproximada da função exponencial:\", base)"
      ],
      "execution_count": 492,
      "outputs": [
        {
          "output_type": "stream",
          "name": "stdout",
          "text": [
            "18 42236\n",
            "Base aproximada da função exponencial: 1.0349901829427648\n"
          ]
        }
      ]
    },
    {
      "cell_type": "markdown",
      "metadata": {
        "id": "Lg51fDQW06b3"
      },
      "source": [
        "$r \\approx \\frac{\\log(f(b))-\\log(f(a))}{b-a}, base = e^{r}$"
      ]
    },
    {
      "cell_type": "code",
      "metadata": {
        "id": "8U2za5cpl0YH",
        "colab": {
          "base_uri": "https://localhost:8080/"
        },
        "outputId": "f94b3cb7-4bf2-4b83-a3da-be7a6191c19e"
      },
      "source": [
        "# Se for polinomial:\n",
        "\n",
        "# Calcula o valor de dois pontos da função\n",
        "a = 2\n",
        "b = 100\n",
        "fa = f1(a)\n",
        "fb = f1(b)\n",
        "expoente = (math.log10(fb)-math.log10(fa))/(math.log10(b)-math.log10(a))\n",
        "print(\"Expoente aproximado da função polinomial:\", expoente)"
      ],
      "execution_count": 493,
      "outputs": [
        {
          "output_type": "stream",
          "name": "stdout",
          "text": [
            "Expoente aproximado da função polinomial: 1.9837962221239251\n"
          ]
        }
      ]
    },
    {
      "cell_type": "markdown",
      "metadata": {
        "id": "b-EfMhnG1YsJ"
      },
      "source": [
        "$expoente \\approx \\frac{\\log(f(b)) - \\log(f(a))}{\\log(b)-\\log(a)}$"
      ]
    },
    {
      "cell_type": "markdown",
      "metadata": {
        "id": "Z0CSfuzloZvE"
      },
      "source": [
        "## Algoritmo 2"
      ]
    },
    {
      "cell_type": "code",
      "metadata": {
        "id": "aLumW6DSodKj"
      },
      "source": [
        "def f2(n):\n",
        "  res = 0\n",
        "  for i in range(n//2, n+2, 2):     # de n/2 até n+1, de 2 em 2\n",
        "    for j in range(n//2, n*n+1, i): # de n/2 até n*n, de i em i\n",
        "      for k in range(j, j+2):       # de j até j+1\n",
        "        res += 1\n",
        "  return res"
      ],
      "execution_count": 494,
      "outputs": []
    },
    {
      "cell_type": "code",
      "metadata": {
        "id": "0doCjKUcpYlJ",
        "colab": {
          "base_uri": "https://localhost:8080/"
        },
        "outputId": "013afc3c-3e76-46a6-d90e-76a2c7530dd9"
      },
      "source": [
        "# Programa principal\n",
        "for n in range(2,150):\n",
        "  print(n,f2(n))"
      ],
      "execution_count": 495,
      "outputs": [
        {
          "output_type": "stream",
          "name": "stdout",
          "text": [
            "2 12\n",
            "3 24\n",
            "4 24\n",
            "5 44\n",
            "6 48\n",
            "7 66\n",
            "8 70\n",
            "9 102\n",
            "10 108\n",
            "11 130\n",
            "12 136\n",
            "13 184\n",
            "14 192\n",
            "15 218\n",
            "16 224\n",
            "17 288\n",
            "18 296\n",
            "19 330\n",
            "20 336\n",
            "21 408\n",
            "22 420\n",
            "23 460\n",
            "24 472\n",
            "25 558\n",
            "26 570\n",
            "27 616\n",
            "28 628\n",
            "29 726\n",
            "30 742\n",
            "31 792\n",
            "32 806\n",
            "33 918\n",
            "34 934\n",
            "35 988\n",
            "36 1004\n",
            "37 1134\n",
            "38 1148\n",
            "39 1210\n",
            "40 1224\n",
            "41 1368\n",
            "42 1386\n",
            "43 1454\n",
            "44 1470\n",
            "45 1626\n",
            "46 1646\n",
            "47 1720\n",
            "48 1742\n",
            "49 1908\n",
            "50 1928\n",
            "51 2006\n",
            "52 2024\n",
            "53 2208\n",
            "54 2234\n",
            "55 2314\n",
            "56 2338\n",
            "57 2534\n",
            "58 2560\n",
            "59 2648\n",
            "60 2674\n",
            "61 2878\n",
            "62 2904\n",
            "63 3002\n",
            "64 3026\n",
            "65 3248\n",
            "66 3274\n",
            "67 3380\n",
            "68 3404\n",
            "69 3640\n",
            "70 3670\n",
            "71 3780\n",
            "72 3804\n",
            "73 4058\n",
            "74 4084\n",
            "75 4194\n",
            "76 4222\n",
            "77 4494\n",
            "78 4524\n",
            "79 4636\n",
            "80 4670\n",
            "81 4946\n",
            "82 4984\n",
            "83 5106\n",
            "84 5136\n",
            "85 5428\n",
            "86 5464\n",
            "87 5594\n",
            "88 5628\n",
            "89 5930\n",
            "90 5964\n",
            "91 6098\n",
            "92 6132\n",
            "93 6456\n",
            "94 6494\n",
            "95 6634\n",
            "96 6664\n",
            "97 7006\n",
            "98 7038\n",
            "99 7188\n",
            "100 7224\n",
            "101 7568\n",
            "102 7610\n",
            "103 7762\n",
            "104 7806\n",
            "105 8156\n",
            "106 8204\n",
            "107 8360\n",
            "108 8400\n",
            "109 8768\n",
            "110 8818\n",
            "111 8976\n",
            "112 9024\n",
            "113 9406\n",
            "114 9458\n",
            "115 9618\n",
            "116 9668\n",
            "117 10066\n",
            "118 10114\n",
            "119 10284\n",
            "120 10328\n",
            "121 10742\n",
            "122 10792\n",
            "123 10974\n",
            "124 11024\n",
            "125 11442\n",
            "126 11498\n",
            "127 11684\n",
            "128 11736\n",
            "129 12174\n",
            "130 12224\n",
            "131 12408\n",
            "132 12456\n",
            "133 12912\n",
            "134 12972\n",
            "135 13162\n",
            "136 13218\n",
            "137 13684\n",
            "138 13742\n",
            "139 13938\n",
            "140 13996\n",
            "141 14474\n",
            "142 14530\n",
            "143 14734\n",
            "144 14792\n",
            "145 15284\n",
            "146 15342\n",
            "147 15556\n",
            "148 15612\n",
            "149 16120\n"
          ]
        }
      ]
    },
    {
      "cell_type": "code",
      "source": [
        "x = []\n",
        "y = []\n",
        "for n in range(2,150):\n",
        "  x.append(n)\n",
        "  y.append(f2(n))\n",
        "\n",
        "plt.yscale(\"log\")\n",
        "plt.xscale(\"log\")\n",
        "plt.plot(x,y,'r-')\n",
        "plt.show()"
      ],
      "metadata": {
        "colab": {
          "base_uri": "https://localhost:8080/",
          "height": 452
        },
        "id": "4ozMI3QgkuqF",
        "outputId": "5f117c37-0afe-43e8-d069-bcbf68a6e3e2"
      },
      "execution_count": 496,
      "outputs": [
        {
          "output_type": "display_data",
          "data": {
            "text/plain": [
              "<Figure size 640x480 with 1 Axes>"
            ],
            "image/png": "[encoded data removed]"
          },
          "metadata": {}
        }
      ]
    },
    {
      "cell_type": "code",
      "source": [
        "# Polinomial\n",
        "\n",
        "a = 30\n",
        "b = 400\n",
        "fa = f2(a)\n",
        "fb = f2(b)\n",
        "expoente = (math.log10(fb)-math.log10(fa))/(math.log10(b)-math.log10(a))\n",
        "print(\"Expoente aproximado da função polinomial:\", expoente)"
      ],
      "metadata": {
        "colab": {
          "base_uri": "https://localhost:8080/"
        },
        "id": "ZFJ514y-lkIg",
        "outputId": "e6bf8b0c-f7b5-42e3-a177-f73c2e09a28a"
      },
      "execution_count": 497,
      "outputs": [
        {
          "output_type": "stream",
          "name": "stdout",
          "text": [
            "Expoente aproximado da função polinomial: 1.93704967557451\n"
          ]
        }
      ]
    },
    {
      "cell_type": "markdown",
      "metadata": {
        "id": "wvX2WZXAp2Xs"
      },
      "source": [
        "## Algoritmo 3"
      ]
    },
    {
      "cell_type": "markdown",
      "source": [],
      "metadata": {
        "id": "9qhRgiSNA_tp"
      }
    },
    {
      "cell_type": "code",
      "metadata": {
        "id": "7BlTG9QBp4xc"
      },
      "source": [
        "def f3(n):\n",
        "  res = 0\n",
        "  for i in range(n//2,2*n+1):       # de n/2 até 2*n\n",
        "    for j in range(n//2,n+i+1,i):   # de n/2 até n+i, passo i\n",
        "      for k in range(2,i*i+1, i-1): # de 2 até i*i, passo i-1\n",
        "        res += 1\n",
        "  return res"
      ],
      "execution_count": 498,
      "outputs": []
    },
    {
      "cell_type": "code",
      "metadata": {
        "id": "qjbZF-TEqXJq",
        "colab": {
          "base_uri": "https://localhost:8080/"
        },
        "outputId": "454fda69-41d1-46d7-b555-38598b68c2f6"
      },
      "source": [
        "# Programa principal\n",
        "for n in range(4,80):\n",
        "  print(n,f3(n))"
      ],
      "execution_count": 499,
      "outputs": [
        {
          "output_type": "stream",
          "name": "stdout",
          "text": [
            "4 87\n",
            "5 133\n",
            "6 174\n",
            "7 237\n",
            "8 291\n",
            "9 371\n",
            "10 438\n",
            "11 535\n",
            "12 615\n",
            "13 729\n",
            "14 822\n",
            "15 953\n",
            "16 1059\n",
            "17 1207\n",
            "18 1326\n",
            "19 1491\n",
            "20 1623\n",
            "21 1805\n",
            "22 1950\n",
            "23 2149\n",
            "24 2307\n",
            "25 2523\n",
            "26 2694\n",
            "27 2927\n",
            "28 3111\n",
            "29 3361\n",
            "30 3558\n",
            "31 3825\n",
            "32 4035\n",
            "33 4319\n",
            "34 4542\n",
            "35 4843\n",
            "36 5079\n",
            "37 5397\n",
            "38 5646\n",
            "39 5981\n",
            "40 6243\n",
            "41 6595\n",
            "42 6870\n",
            "43 7239\n",
            "44 7527\n",
            "45 7913\n",
            "46 8214\n",
            "47 8617\n",
            "48 8931\n",
            "49 9351\n",
            "50 9678\n",
            "51 10115\n",
            "52 10455\n",
            "53 10909\n",
            "54 11262\n",
            "55 11733\n",
            "56 12099\n",
            "57 12587\n",
            "58 12966\n",
            "59 13471\n",
            "60 13863\n",
            "61 14385\n",
            "62 14790\n",
            "63 15329\n",
            "64 15747\n",
            "65 16303\n",
            "66 16734\n",
            "67 17307\n",
            "68 17751\n",
            "69 18341\n",
            "70 18798\n",
            "71 19405\n",
            "72 19875\n",
            "73 20499\n",
            "74 20982\n",
            "75 21623\n",
            "76 22119\n",
            "77 22777\n",
            "78 23286\n",
            "79 23961\n"
          ]
        }
      ]
    },
    {
      "cell_type": "code",
      "source": [
        "x = []\n",
        "y = []\n",
        "for n in range(4,80):\n",
        "  x.append(n)\n",
        "  y.append(f3(n))\n",
        "\n",
        "plt.yscale(\"log\")\n",
        "plt.xscale(\"log\")\n",
        "plt.plot(x,y,'r-')\n",
        "plt.show()"
      ],
      "metadata": {
        "colab": {
          "base_uri": "https://localhost:8080/",
          "height": 452
        },
        "id": "sKy6-gJYmfUH",
        "outputId": "0ef8bc2f-ad52-40a0-fa96-dec518c0c572"
      },
      "execution_count": 500,
      "outputs": [
        {
          "output_type": "display_data",
          "data": {
            "text/plain": [
              "<Figure size 640x480 with 1 Axes>"
            ],
            "image/png": "[encoded data removed]"
          },
          "metadata": {}
        }
      ]
    },
    {
      "cell_type": "code",
      "source": [
        "# Polinomial\n",
        "\n",
        "a = 5\n",
        "b = 100\n",
        "fa = f3(a)\n",
        "fb = f3(b)\n",
        "expoente = (math.log10(fb)-math.log10(fa))/(math.log10(b)-math.log10(a))\n",
        "print(\"Expoente aproximado da função polinomial:\", expoente)"
      ],
      "metadata": {
        "colab": {
          "base_uri": "https://localhost:8080/"
        },
        "id": "yTLJnSbQm72_",
        "outputId": "976ffac3-b480-4a7f-eb65-10db85344637"
      },
      "execution_count": 501,
      "outputs": [
        {
          "output_type": "stream",
          "name": "stdout",
          "text": [
            "Expoente aproximado da função polinomial: 1.8885863799967197\n"
          ]
        }
      ]
    },
    {
      "cell_type": "markdown",
      "metadata": {
        "id": "ud5Arw9TqvCj"
      },
      "source": [
        "## Algoritmo 4"
      ]
    },
    {
      "cell_type": "markdown",
      "source": [],
      "metadata": {
        "id": "kDC-jW9FBnI0"
      }
    },
    {
      "cell_type": "code",
      "metadata": {
        "id": "nW5pFFaCqxdS"
      },
      "source": [
        "def f4(n):\n",
        "  res = 0\n",
        "  for i in range(0,n+2,2):      # 0 a n+1, passo 2\n",
        "    for j in range(i,n+1,2):    # i a n, passo 2\n",
        "      for k in range(i//2,j+2): # i/2 a j+1\n",
        "        res += 1\n",
        "  return res"
      ],
      "execution_count": 502,
      "outputs": []
    },
    {
      "cell_type": "code",
      "metadata": {
        "id": "DsqrrKECsNTf",
        "colab": {
          "base_uri": "https://localhost:8080/"
        },
        "outputId": "1a19436e-7329-4c77-b1c6-13b22f258844"
      },
      "source": [
        "# Programa principal\n",
        "for n in range(4,80):\n",
        "  print(n,f4(n))"
      ],
      "execution_count": 503,
      "outputs": [
        {
          "output_type": "stream",
          "name": "stdout",
          "text": [
            "4 24\n",
            "5 24\n",
            "6 50\n",
            "7 50\n",
            "8 90\n",
            "9 90\n",
            "10 147\n",
            "11 147\n",
            "12 224\n",
            "13 224\n",
            "14 324\n",
            "15 324\n",
            "16 450\n",
            "17 450\n",
            "18 605\n",
            "19 605\n",
            "20 792\n",
            "21 792\n",
            "22 1014\n",
            "23 1014\n",
            "24 1274\n",
            "25 1274\n",
            "26 1575\n",
            "27 1575\n",
            "28 1920\n",
            "29 1920\n",
            "30 2312\n",
            "31 2312\n",
            "32 2754\n",
            "33 2754\n",
            "34 3249\n",
            "35 3249\n",
            "36 3800\n",
            "37 3800\n",
            "38 4410\n",
            "39 4410\n",
            "40 5082\n",
            "41 5082\n",
            "42 5819\n",
            "43 5819\n",
            "44 6624\n",
            "45 6624\n",
            "46 7500\n",
            "47 7500\n",
            "48 8450\n",
            "49 8450\n",
            "50 9477\n",
            "51 9477\n",
            "52 10584\n",
            "53 10584\n",
            "54 11774\n",
            "55 11774\n",
            "56 13050\n",
            "57 13050\n",
            "58 14415\n",
            "59 14415\n",
            "60 15872\n",
            "61 15872\n",
            "62 17424\n",
            "63 17424\n",
            "64 19074\n",
            "65 19074\n",
            "66 20825\n",
            "67 20825\n",
            "68 22680\n",
            "69 22680\n",
            "70 24642\n",
            "71 24642\n",
            "72 26714\n",
            "73 26714\n",
            "74 28899\n",
            "75 28899\n",
            "76 31200\n",
            "77 31200\n",
            "78 33620\n",
            "79 33620\n"
          ]
        }
      ]
    },
    {
      "cell_type": "code",
      "source": [
        "x = []\n",
        "y = []\n",
        "for n in range(100,300):\n",
        "  x.append(n)\n",
        "  y.append(f4(n))\n",
        "\n",
        "plt.yscale(\"log\")\n",
        "plt.xscale(\"log\")\n",
        "plt.plot(x,y,'r-')\n",
        "plt.show()"
      ],
      "metadata": {
        "colab": {
          "base_uri": "https://localhost:8080/",
          "height": 452
        },
        "id": "JST5YRHHnPV4",
        "outputId": "61a3dfa8-0872-4a64-a54b-3c74150af16a"
      },
      "execution_count": 504,
      "outputs": [
        {
          "output_type": "display_data",
          "data": {
            "text/plain": [
              "<Figure size 640x480 with 1 Axes>"
            ],
            "image/png": "[encoded data removed]"
          },
          "metadata": {}
        }
      ]
    },
    {
      "cell_type": "code",
      "source": [
        "# Polinomial\n",
        "\n",
        "a = 100\n",
        "b = 300\n",
        "fa = f4(a)\n",
        "fb = f4(b)\n",
        "expoente = (math.log10(fb)-math.log10(fa))/(math.log10(b)-math.log10(a))\n",
        "print(\"Expoente aproximado da função polinomial:\", expoente)"
      ],
      "metadata": {
        "colab": {
          "base_uri": "https://localhost:8080/"
        },
        "id": "740k3hSynnO6",
        "outputId": "c743c850-e07b-45ec-b355-e12c6da3f262"
      },
      "execution_count": 505,
      "outputs": [
        {
          "output_type": "stream",
          "name": "stdout",
          "text": [
            "Expoente aproximado da função polinomial: 2.9407351819603558\n"
          ]
        }
      ]
    },
    {
      "cell_type": "markdown",
      "metadata": {
        "id": "fXYDSQK9sVBF"
      },
      "source": [
        "## Algoritmo 5"
      ]
    },
    {
      "cell_type": "code",
      "metadata": {
        "id": "_n2GbiH6shr5"
      },
      "source": [
        "def f5(n,d):\n",
        "  if n < 0:\n",
        "    return d\n",
        "  return f5(n-1,1-d) + f5(n-2,d)\n",
        "\n",
        "# Chame com f5(n,1)"
      ],
      "execution_count": 506,
      "outputs": []
    },
    {
      "cell_type": "code",
      "source": [
        "# Programa principal\n",
        "for n in range(1,30):\n",
        "  print(n,f5(n,1))"
      ],
      "metadata": {
        "colab": {
          "base_uri": "https://localhost:8080/"
        },
        "id": "x59_F_Ipn-jF",
        "outputId": "6ecbf960-ee8c-46ab-ec46-ecd2b1dddc8e"
      },
      "execution_count": 507,
      "outputs": [
        {
          "output_type": "stream",
          "name": "stdout",
          "text": [
            "1 2\n",
            "2 2\n",
            "3 5\n",
            "4 5\n",
            "5 13\n",
            "6 13\n",
            "7 34\n",
            "8 34\n",
            "9 89\n",
            "10 89\n",
            "11 233\n",
            "12 233\n",
            "13 610\n",
            "14 610\n",
            "15 1597\n",
            "16 1597\n",
            "17 4181\n",
            "18 4181\n",
            "19 10946\n",
            "20 10946\n",
            "21 28657\n",
            "22 28657\n",
            "23 75025\n",
            "24 75025\n",
            "25 196418\n",
            "26 196418\n",
            "27 514229\n",
            "28 514229\n",
            "29 1346269\n"
          ]
        }
      ]
    },
    {
      "cell_type": "code",
      "source": [
        "x = []\n",
        "y = []\n",
        "for n in range(1,30):\n",
        "  x.append(n)\n",
        "  y.append(f5(n,1))\n",
        "\n",
        "plt.yscale(\"log\")\n",
        "#plt.xscale(\"log\")\n",
        "plt.plot(x,y,'r-')\n",
        "plt.show()"
      ],
      "metadata": {
        "colab": {
          "base_uri": "https://localhost:8080/",
          "height": 449
        },
        "id": "RKxXFiPfpAGI",
        "outputId": "8b21e331-11f0-4a9c-e04e-e631e56a14dd"
      },
      "execution_count": 518,
      "outputs": [
        {
          "output_type": "display_data",
          "data": {
            "text/plain": [
              "<Figure size 640x480 with 1 Axes>"
            ],
            "image/png": "[encoded data removed]"
          },
          "metadata": {}
        }
      ]
    },
    {
      "cell_type": "code",
      "source": [
        "# Exponencial\n",
        "\n",
        "a = 1\n",
        "b = 30\n",
        "fa = f5(a,1)\n",
        "fb = f5(b,1)\n",
        "print(fa,fb)\n",
        "# Inclinação da reta (r) será aprox. (log(fb)-log(fa))/(b-a)\n",
        "r = (math.log10(fb) - math.log10(fa))/ (b-a)\n",
        "# E o expoente é exp(r)\n",
        "base = math.exp(r)\n",
        "print(\"Base aproximada da função exponencial:\", base)"
      ],
      "metadata": {
        "colab": {
          "base_uri": "https://localhost:8080/"
        },
        "id": "es7W6L6Yp2rK",
        "outputId": "98878c86-44d9-4da0-8407-026171b1dcb9"
      },
      "execution_count": 521,
      "outputs": [
        {
          "output_type": "stream",
          "name": "stdout",
          "text": [
            "2 1346269\n",
            "Base aproximada da função exponencial: 1.2225869068738267\n"
          ]
        }
      ]
    },
    {
      "cell_type": "markdown",
      "metadata": {
        "id": "vTGhy8tos50e"
      },
      "source": [
        "## Algoritmo 6"
      ]
    },
    {
      "cell_type": "code",
      "metadata": {
        "id": "GR1aP6ncs7pY"
      },
      "source": [
        "def f6(n,d):\n",
        "  global op\n",
        "  op += 1\n",
        "  if n == 0:\n",
        "    return d\n",
        "  return 3 * f6(n-1,1-d)\n",
        "\n",
        "# Chame com f6(n,1), o total de operações volta na variável\n",
        "# op (lembre-se de ZERAR a varíavel antes de cada chamada)"
      ],
      "execution_count": 508,
      "outputs": []
    },
    {
      "cell_type": "markdown",
      "metadata": {
        "id": "29rb5m1xwpMp"
      },
      "source": [
        "## Algoritmo 7"
      ]
    },
    {
      "cell_type": "code",
      "metadata": {
        "id": "x1eGsAi8wrFV"
      },
      "source": [
        "def f7(n):\n",
        "  res = 0\n",
        "  s = int(math.sqrt(n))\n",
        "  for i in range(1,n+1):      # 1 a n\n",
        "    for j in range(1,s+1):    # 1 a sqrt(n)\n",
        "      for k in range(1,i+1):  # 1 a i\n",
        "        res += 1\n",
        "  return res"
      ],
      "execution_count": 509,
      "outputs": []
    },
    {
      "cell_type": "markdown",
      "metadata": {
        "id": "1S04ErDy_el6"
      },
      "source": [
        "## Algoritmo 8"
      ]
    },
    {
      "cell_type": "code",
      "metadata": {
        "id": "jgFDktv__lvn"
      },
      "source": [
        "def f8(n):\n",
        "  res = 0\n",
        "  for i in range(1,n+1):      # de 1 a n\n",
        "    for j in range(i, 2*i+1): # de i a 2*i\n",
        "      for k in range(i,j+1):  # de i a j\n",
        "        res += 1\n",
        "  return res"
      ],
      "execution_count": 510,
      "outputs": []
    },
    {
      "cell_type": "markdown",
      "metadata": {
        "id": "446VgLJ6_piX"
      },
      "source": [
        "## Algoritmo 9"
      ]
    },
    {
      "cell_type": "code",
      "metadata": {
        "id": "uPH-fCL0_rm2"
      },
      "source": [
        "def f9(n):\n",
        "  res = 0\n",
        "  for i in range(1,n+1):     # de 1 a n.\n",
        "    for j in range(i,i+4):   # de i a i+3\n",
        "      for k in range(i,j+1): # de i a j\n",
        "        res += 1\n",
        "  return res"
      ],
      "execution_count": 511,
      "outputs": []
    },
    {
      "cell_type": "code",
      "source": [],
      "metadata": {
        "id": "toBNd7uSmRm-"
      },
      "execution_count": 511,
      "outputs": []
    }
  ]
}